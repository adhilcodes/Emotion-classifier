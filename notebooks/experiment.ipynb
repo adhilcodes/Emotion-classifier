{
  "cells": [
    {
      "cell_type": "markdown",
      "metadata": {
        "id": "O8UzMaQVKn6z"
      },
      "source": [
        "## Data Preparation and Loading"
      ]
    },
    {
      "cell_type": "code",
      "execution_count": 1,
      "metadata": {
        "id": "fr4batoWf5F9"
      },
      "outputs": [],
      "source": [
        "import numpy as np\n",
        "import pandas as pd\n",
        "import matplotlib.pyplot as plt\n",
        "import os"
      ]
    },
    {
      "cell_type": "code",
      "source": [
        "from google.colab import drive\n",
        "drive.mount('/content/drive')"
      ],
      "metadata": {
        "colab": {
          "base_uri": "https://localhost:8080/"
        },
        "id": "MOR2iOwE5cAF",
        "outputId": "ef7ff8ad-7fab-4ba9-b38a-85cc98b0d23b"
      },
      "execution_count": 2,
      "outputs": [
        {
          "output_type": "stream",
          "name": "stdout",
          "text": [
            "Mounted at /content/drive\n"
          ]
        }
      ]
    },
    {
      "cell_type": "code",
      "execution_count": null,
      "metadata": {
        "id": "6RREtQ2emISi"
      },
      "outputs": [],
      "source": [
        "!unzip /content/drive/MyDrive/Dataset_assignment\\ .zip"
      ]
    },
    {
      "cell_type": "code",
      "execution_count": 4,
      "metadata": {
        "colab": {
          "base_uri": "https://localhost:8080/"
        },
        "id": "6-H-asRdgClH",
        "outputId": "ba15f1f0-8c2d-4978-d9ee-c88d699269af"
      },
      "outputs": [
        {
          "output_type": "stream",
          "name": "stdout",
          "text": [
            "label types: ['surprise', 'sad', 'happy', 'neutral', 'angry', 'fear', 'disgust']\n"
          ]
        }
      ],
      "source": [
        "train_path = '/content/images/train'\n",
        "test_path = '/content/images/final test'\n",
        "val_path = '/content/images/validation'\n",
        "\n",
        "train_data_path = os.listdir('/content/images/train')\n",
        "test_data_path = os.listdir('/content/images/final test')\n",
        "val_data_path = os.listdir('/content/images/validation')\n",
        "print(f'label types: {train_data_path}')"
      ]
    },
    {
      "cell_type": "code",
      "execution_count": 5,
      "metadata": {
        "colab": {
          "base_uri": "https://localhost:8080/"
        },
        "id": "uPKC_1fQgD_L",
        "outputId": "bd2756fb-a502-4895-8333-030ddd822db1"
      },
      "outputs": [
        {
          "output_type": "stream",
          "name": "stdout",
          "text": [
            "Length of Train Data: 26921 \n",
            "Length of Test Data 1900 \n",
            "Length of Val Data 7066\n"
          ]
        }
      ],
      "source": [
        "# Preparing Data\n",
        "\n",
        "def prepare_data(data_path, sub_data):\n",
        "    rooms = []\n",
        "    for item in data_path:\n",
        "        all_rooms = os.listdir(str(sub_data) + '/' +item)\n",
        "\n",
        "        for room in all_rooms:\n",
        "            rooms.append((item, str(sub_data + '/' +item) + '/' + room))\n",
        "\n",
        "    data = pd.DataFrame(data=rooms, columns=['tag', 'image'])\n",
        "    return data\n",
        "\n",
        "train_data = prepare_data(train_data_path, train_path).loc[:,['image','tag']]\n",
        "test_data = prepare_data(test_data_path, test_path)\n",
        "val_data = prepare_data(val_data_path, val_path)\n",
        "\n",
        "print(f'Length of Train Data: {len(train_data)} \\nLength of Test Data {len(test_data)} \\nLength of Val Data {len(val_data)}')"
      ]
    },
    {
      "cell_type": "code",
      "execution_count": 6,
      "metadata": {
        "colab": {
          "base_uri": "https://localhost:8080/"
        },
        "id": "kGfWSLkjgZVF",
        "outputId": "39b721a6-6de5-4614-cee9-b129c137ec5f"
      },
      "outputs": [
        {
          "output_type": "stream",
          "name": "stdout",
          "text": [
            "Data shape: (26921, 2)\n",
            "Data shape: (1900, 2)\n",
            "Data shape: (7066, 2)\n"
          ]
        }
      ],
      "source": [
        "def label_mapping(data):\n",
        "    df = data.loc[:, ['image', 'tag']]\n",
        "    print(f'Data shape: {df.shape}')\n",
        "\n",
        "    label_map = {\n",
        "        'angry': 0,\n",
        "        'disgust': 1,\n",
        "        'fear': 2,\n",
        "        'happy': 3,\n",
        "        'neutral': 4,\n",
        "        'sad': 5,\n",
        "        'surprise': 6\n",
        "    }\n",
        "\n",
        "    df['label'] = df['tag'].map(label_map)\n",
        "    return df\n",
        "\n",
        "train_ = label_mapping(train_data)\n",
        "test_ = label_mapping(test_data)\n",
        "val_ = label_mapping(val_data)\n",
        "\n",
        "\n",
        "train_.to_csv('/content/drive/MyDrive/train.csv', index=False)\n",
        "test_.to_csv('/content/drive/MyDrive/test.csv', index=False)\n",
        "val_.to_csv('/content/drive/MyDrive/val.csv', index=False)"
      ]
    },
    {
      "cell_type": "code",
      "execution_count": 7,
      "metadata": {
        "colab": {
          "base_uri": "https://localhost:8080/"
        },
        "id": "NmTIXIZNjj7Y",
        "outputId": "5bbc96a1-0caa-42b4-97f5-e4adc5b98707"
      },
      "outputs": [
        {
          "output_type": "stream",
          "name": "stdout",
          "text": [
            "Training: 26921 Testing: 1900 Testing: 7066\n"
          ]
        }
      ],
      "source": [
        "train_df = pd.read_csv(\"/content/drive/MyDrive/train.csv\", usecols=['image', 'label'])\n",
        "test_df = pd.read_csv(\"/content/drive/MyDrive/test.csv\", usecols=['image', 'label'])\n",
        "val_df = pd.read_csv(\"/content/drive/MyDrive/val.csv\", usecols=['image', 'label'])\n",
        "\n",
        "\n",
        "print(f\"Training: {len(train_df)} Testing: {len(test_df)} Testing: {len(val_df)}\")"
      ]
    },
    {
      "cell_type": "code",
      "execution_count": 15,
      "metadata": {
        "colab": {
          "base_uri": "https://localhost:8080/",
          "height": 206
        },
        "id": "jqRC5zVmsNmS",
        "outputId": "0801f949-0470-4b5d-d7e5-26e82bc0b8bd"
      },
      "outputs": [
        {
          "output_type": "execute_result",
          "data": {
            "text/plain": [
              "                                           image  label\n",
              "0  /content/images/validation/surprise/26076.jpg      6\n",
              "1  /content/images/validation/surprise/13101.jpg      6\n",
              "2  /content/images/validation/surprise/23893.jpg      6\n",
              "3  /content/images/validation/surprise/21072.jpg      6\n",
              "4  /content/images/validation/surprise/25107.jpg      6"
            ],
            "text/html": [
              "\n",
              "  <div id=\"df-a1e84c56-1e68-489e-a2b9-259391d17a20\" class=\"colab-df-container\">\n",
              "    <div>\n",
              "<style scoped>\n",
              "    .dataframe tbody tr th:only-of-type {\n",
              "        vertical-align: middle;\n",
              "    }\n",
              "\n",
              "    .dataframe tbody tr th {\n",
              "        vertical-align: top;\n",
              "    }\n",
              "\n",
              "    .dataframe thead th {\n",
              "        text-align: right;\n",
              "    }\n",
              "</style>\n",
              "<table border=\"1\" class=\"dataframe\">\n",
              "  <thead>\n",
              "    <tr style=\"text-align: right;\">\n",
              "      <th></th>\n",
              "      <th>image</th>\n",
              "      <th>label</th>\n",
              "    </tr>\n",
              "  </thead>\n",
              "  <tbody>\n",
              "    <tr>\n",
              "      <th>0</th>\n",
              "      <td>/content/images/validation/surprise/26076.jpg</td>\n",
              "      <td>6</td>\n",
              "    </tr>\n",
              "    <tr>\n",
              "      <th>1</th>\n",
              "      <td>/content/images/validation/surprise/13101.jpg</td>\n",
              "      <td>6</td>\n",
              "    </tr>\n",
              "    <tr>\n",
              "      <th>2</th>\n",
              "      <td>/content/images/validation/surprise/23893.jpg</td>\n",
              "      <td>6</td>\n",
              "    </tr>\n",
              "    <tr>\n",
              "      <th>3</th>\n",
              "      <td>/content/images/validation/surprise/21072.jpg</td>\n",
              "      <td>6</td>\n",
              "    </tr>\n",
              "    <tr>\n",
              "      <th>4</th>\n",
              "      <td>/content/images/validation/surprise/25107.jpg</td>\n",
              "      <td>6</td>\n",
              "    </tr>\n",
              "  </tbody>\n",
              "</table>\n",
              "</div>\n",
              "    <div class=\"colab-df-buttons\">\n",
              "\n",
              "  <div class=\"colab-df-container\">\n",
              "    <button class=\"colab-df-convert\" onclick=\"convertToInteractive('df-a1e84c56-1e68-489e-a2b9-259391d17a20')\"\n",
              "            title=\"Convert this dataframe to an interactive table.\"\n",
              "            style=\"display:none;\">\n",
              "\n",
              "  <svg xmlns=\"http://www.w3.org/2000/svg\" height=\"24px\" viewBox=\"0 -960 960 960\">\n",
              "    <path d=\"M120-120v-720h720v720H120Zm60-500h600v-160H180v160Zm220 220h160v-160H400v160Zm0 220h160v-160H400v160ZM180-400h160v-160H180v160Zm440 0h160v-160H620v160ZM180-180h160v-160H180v160Zm440 0h160v-160H620v160Z\"/>\n",
              "  </svg>\n",
              "    </button>\n",
              "\n",
              "  <style>\n",
              "    .colab-df-container {\n",
              "      display:flex;\n",
              "      gap: 12px;\n",
              "    }\n",
              "\n",
              "    .colab-df-convert {\n",
              "      background-color: #E8F0FE;\n",
              "      border: none;\n",
              "      border-radius: 50%;\n",
              "      cursor: pointer;\n",
              "      display: none;\n",
              "      fill: #1967D2;\n",
              "      height: 32px;\n",
              "      padding: 0 0 0 0;\n",
              "      width: 32px;\n",
              "    }\n",
              "\n",
              "    .colab-df-convert:hover {\n",
              "      background-color: #E2EBFA;\n",
              "      box-shadow: 0px 1px 2px rgba(60, 64, 67, 0.3), 0px 1px 3px 1px rgba(60, 64, 67, 0.15);\n",
              "      fill: #174EA6;\n",
              "    }\n",
              "\n",
              "    .colab-df-buttons div {\n",
              "      margin-bottom: 4px;\n",
              "    }\n",
              "\n",
              "    [theme=dark] .colab-df-convert {\n",
              "      background-color: #3B4455;\n",
              "      fill: #D2E3FC;\n",
              "    }\n",
              "\n",
              "    [theme=dark] .colab-df-convert:hover {\n",
              "      background-color: #434B5C;\n",
              "      box-shadow: 0px 1px 3px 1px rgba(0, 0, 0, 0.15);\n",
              "      filter: drop-shadow(0px 1px 2px rgba(0, 0, 0, 0.3));\n",
              "      fill: #FFFFFF;\n",
              "    }\n",
              "  </style>\n",
              "\n",
              "    <script>\n",
              "      const buttonEl =\n",
              "        document.querySelector('#df-a1e84c56-1e68-489e-a2b9-259391d17a20 button.colab-df-convert');\n",
              "      buttonEl.style.display =\n",
              "        google.colab.kernel.accessAllowed ? 'block' : 'none';\n",
              "\n",
              "      async function convertToInteractive(key) {\n",
              "        const element = document.querySelector('#df-a1e84c56-1e68-489e-a2b9-259391d17a20');\n",
              "        const dataTable =\n",
              "          await google.colab.kernel.invokeFunction('convertToInteractive',\n",
              "                                                    [key], {});\n",
              "        if (!dataTable) return;\n",
              "\n",
              "        const docLinkHtml = 'Like what you see? Visit the ' +\n",
              "          '<a target=\"_blank\" href=https://colab.research.google.com/notebooks/data_table.ipynb>data table notebook</a>'\n",
              "          + ' to learn more about interactive tables.';\n",
              "        element.innerHTML = '';\n",
              "        dataTable['output_type'] = 'display_data';\n",
              "        await google.colab.output.renderOutput(dataTable, element);\n",
              "        const docLink = document.createElement('div');\n",
              "        docLink.innerHTML = docLinkHtml;\n",
              "        element.appendChild(docLink);\n",
              "      }\n",
              "    </script>\n",
              "  </div>\n",
              "\n",
              "\n",
              "<div id=\"df-16240743-a29b-4437-9aec-9ed039d757a5\">\n",
              "  <button class=\"colab-df-quickchart\" onclick=\"quickchart('df-16240743-a29b-4437-9aec-9ed039d757a5')\"\n",
              "            title=\"Suggest charts\"\n",
              "            style=\"display:none;\">\n",
              "\n",
              "<svg xmlns=\"http://www.w3.org/2000/svg\" height=\"24px\"viewBox=\"0 0 24 24\"\n",
              "     width=\"24px\">\n",
              "    <g>\n",
              "        <path d=\"M19 3H5c-1.1 0-2 .9-2 2v14c0 1.1.9 2 2 2h14c1.1 0 2-.9 2-2V5c0-1.1-.9-2-2-2zM9 17H7v-7h2v7zm4 0h-2V7h2v10zm4 0h-2v-4h2v4z\"/>\n",
              "    </g>\n",
              "</svg>\n",
              "  </button>\n",
              "\n",
              "<style>\n",
              "  .colab-df-quickchart {\n",
              "      --bg-color: #E8F0FE;\n",
              "      --fill-color: #1967D2;\n",
              "      --hover-bg-color: #E2EBFA;\n",
              "      --hover-fill-color: #174EA6;\n",
              "      --disabled-fill-color: #AAA;\n",
              "      --disabled-bg-color: #DDD;\n",
              "  }\n",
              "\n",
              "  [theme=dark] .colab-df-quickchart {\n",
              "      --bg-color: #3B4455;\n",
              "      --fill-color: #D2E3FC;\n",
              "      --hover-bg-color: #434B5C;\n",
              "      --hover-fill-color: #FFFFFF;\n",
              "      --disabled-bg-color: #3B4455;\n",
              "      --disabled-fill-color: #666;\n",
              "  }\n",
              "\n",
              "  .colab-df-quickchart {\n",
              "    background-color: var(--bg-color);\n",
              "    border: none;\n",
              "    border-radius: 50%;\n",
              "    cursor: pointer;\n",
              "    display: none;\n",
              "    fill: var(--fill-color);\n",
              "    height: 32px;\n",
              "    padding: 0;\n",
              "    width: 32px;\n",
              "  }\n",
              "\n",
              "  .colab-df-quickchart:hover {\n",
              "    background-color: var(--hover-bg-color);\n",
              "    box-shadow: 0 1px 2px rgba(60, 64, 67, 0.3), 0 1px 3px 1px rgba(60, 64, 67, 0.15);\n",
              "    fill: var(--button-hover-fill-color);\n",
              "  }\n",
              "\n",
              "  .colab-df-quickchart-complete:disabled,\n",
              "  .colab-df-quickchart-complete:disabled:hover {\n",
              "    background-color: var(--disabled-bg-color);\n",
              "    fill: var(--disabled-fill-color);\n",
              "    box-shadow: none;\n",
              "  }\n",
              "\n",
              "  .colab-df-spinner {\n",
              "    border: 2px solid var(--fill-color);\n",
              "    border-color: transparent;\n",
              "    border-bottom-color: var(--fill-color);\n",
              "    animation:\n",
              "      spin 1s steps(1) infinite;\n",
              "  }\n",
              "\n",
              "  @keyframes spin {\n",
              "    0% {\n",
              "      border-color: transparent;\n",
              "      border-bottom-color: var(--fill-color);\n",
              "      border-left-color: var(--fill-color);\n",
              "    }\n",
              "    20% {\n",
              "      border-color: transparent;\n",
              "      border-left-color: var(--fill-color);\n",
              "      border-top-color: var(--fill-color);\n",
              "    }\n",
              "    30% {\n",
              "      border-color: transparent;\n",
              "      border-left-color: var(--fill-color);\n",
              "      border-top-color: var(--fill-color);\n",
              "      border-right-color: var(--fill-color);\n",
              "    }\n",
              "    40% {\n",
              "      border-color: transparent;\n",
              "      border-right-color: var(--fill-color);\n",
              "      border-top-color: var(--fill-color);\n",
              "    }\n",
              "    60% {\n",
              "      border-color: transparent;\n",
              "      border-right-color: var(--fill-color);\n",
              "    }\n",
              "    80% {\n",
              "      border-color: transparent;\n",
              "      border-right-color: var(--fill-color);\n",
              "      border-bottom-color: var(--fill-color);\n",
              "    }\n",
              "    90% {\n",
              "      border-color: transparent;\n",
              "      border-bottom-color: var(--fill-color);\n",
              "    }\n",
              "  }\n",
              "</style>\n",
              "\n",
              "  <script>\n",
              "    async function quickchart(key) {\n",
              "      const quickchartButtonEl =\n",
              "        document.querySelector('#' + key + ' button');\n",
              "      quickchartButtonEl.disabled = true;  // To prevent multiple clicks.\n",
              "      quickchartButtonEl.classList.add('colab-df-spinner');\n",
              "      try {\n",
              "        const charts = await google.colab.kernel.invokeFunction(\n",
              "            'suggestCharts', [key], {});\n",
              "      } catch (error) {\n",
              "        console.error('Error during call to suggestCharts:', error);\n",
              "      }\n",
              "      quickchartButtonEl.classList.remove('colab-df-spinner');\n",
              "      quickchartButtonEl.classList.add('colab-df-quickchart-complete');\n",
              "    }\n",
              "    (() => {\n",
              "      let quickchartButtonEl =\n",
              "        document.querySelector('#df-16240743-a29b-4437-9aec-9ed039d757a5 button');\n",
              "      quickchartButtonEl.style.display =\n",
              "        google.colab.kernel.accessAllowed ? 'block' : 'none';\n",
              "    })();\n",
              "  </script>\n",
              "</div>\n",
              "\n",
              "    </div>\n",
              "  </div>\n"
            ],
            "application/vnd.google.colaboratory.intrinsic+json": {
              "type": "dataframe",
              "variable_name": "val_df",
              "summary": "{\n  \"name\": \"val_df\",\n  \"rows\": 7066,\n  \"fields\": [\n    {\n      \"column\": \"image\",\n      \"properties\": {\n        \"dtype\": \"string\",\n        \"num_unique_values\": 7066,\n        \"samples\": [\n          \"/content/images/validation/neutral/596.jpg\",\n          \"/content/images/validation/sad/4714.jpg\",\n          \"/content/images/validation/neutral/10741.jpg\"\n        ],\n        \"semantic_type\": \"\",\n        \"description\": \"\"\n      }\n    },\n    {\n      \"column\": \"label\",\n      \"properties\": {\n        \"dtype\": \"number\",\n        \"std\": 1,\n        \"min\": 0,\n        \"max\": 6,\n        \"num_unique_values\": 7,\n        \"samples\": [\n          6,\n          5,\n          2\n        ],\n        \"semantic_type\": \"\",\n        \"description\": \"\"\n      }\n    }\n  ]\n}"
            }
          },
          "metadata": {},
          "execution_count": 15
        }
      ],
      "source": [
        "val_df.head()"
      ]
    },
    {
      "cell_type": "markdown",
      "metadata": {
        "id": "OKBSK_oOKvQI"
      },
      "source": [
        "## Constructing Dataloader, Building model and Training model"
      ]
    },
    {
      "cell_type": "code",
      "execution_count": 8,
      "metadata": {
        "id": "g0HP5dmjjrNW"
      },
      "outputs": [],
      "source": [
        "import torch\n",
        "import torch.nn as nn\n",
        "from torch.utils.data import DataLoader\n",
        "import torchvision.transforms as transforms\n",
        "from PIL import Image\n",
        "import torch.nn.functional as F\n",
        "from sklearn.metrics import accuracy_score"
      ]
    },
    {
      "cell_type": "code",
      "execution_count": 9,
      "metadata": {
        "id": "sNsfKixSwz3w"
      },
      "outputs": [],
      "source": [
        "class EmotionData:\n",
        "    def __init__(self, data):\n",
        "        self.data = data\n",
        "        self.transform = transforms.Compose([\n",
        "            transforms.ToTensor(),\n",
        "            transforms.Normalize([0.5], [0.5])\n",
        "        ])\n",
        "\n",
        "    def __len__(self):\n",
        "        return len(self.data)\n",
        "\n",
        "    def __getitem__(self, idx):\n",
        "        image_path = self.data.iloc[idx, 0]\n",
        "        label = self.data.iloc[idx, 1]\n",
        "\n",
        "        image = Image.open(image_path).convert(\"RGB\")\n",
        "        image = self.transform(image)\n",
        "\n",
        "        return image, torch.tensor(label, dtype=torch.long)"
      ]
    },
    {
      "cell_type": "code",
      "execution_count": 10,
      "metadata": {
        "colab": {
          "base_uri": "https://localhost:8080/"
        },
        "id": "-973igGyw4iH",
        "outputId": "6352790e-3849-495d-ff9f-30942fcdf332"
      },
      "outputs": [
        {
          "output_type": "stream",
          "name": "stdout",
          "text": [
            "==================================================\n",
            "Total No. of Batches: 421 \n",
            "\n",
            " \n",
            " Batch No: 1, \n",
            " Data shape torch.Size([64, 3, 48, 48]) \n",
            " Labels torch.Size([64])\n",
            "==================================================\n"
          ]
        }
      ],
      "source": [
        "train_dataset = EmotionData(train_df)\n",
        "test_dataset = EmotionData(test_df)\n",
        "val_dataset = EmotionData(val_df)\n",
        "\n",
        "\n",
        "train_dataloader = DataLoader(train_dataset, batch_size=64, shuffle=True)\n",
        "test_dataloader = DataLoader(test_dataset, batch_size=64, shuffle=False)\n",
        "val_dataloader = DataLoader(val_dataset, batch_size=64, shuffle=False)\n",
        "\n",
        "print(\"=\" * 50)\n",
        "print(f\"Total No. of Batches: {len(train_dataloader)} \\n\")\n",
        "for _, (features, labels) in enumerate(train_dataloader):\n",
        "    print(f' \\n Batch No: {_+1}, \\n Data shape {features.shape} \\n Labels {labels.shape}')\n",
        "    print(\"=\" * 50)\n",
        "    break"
      ]
    },
    {
      "cell_type": "code",
      "execution_count": 24,
      "metadata": {
        "id": "u8CaO707jrPz"
      },
      "outputs": [],
      "source": [
        "class EmotionCNN(nn.Module):\n",
        "    def __init__(self):\n",
        "        super(EmotionCNN, self).__init__()\n",
        "\n",
        "        self.conv_block1 = nn.Sequential(\n",
        "            nn.Conv2d(3, 64, kernel_size=3, padding=1),\n",
        "            nn.BatchNorm2d(64),\n",
        "            nn.ReLU(),\n",
        "            nn.Conv2d(64, 64, kernel_size=3, padding=1),\n",
        "            nn.BatchNorm2d(64),\n",
        "            nn.ReLU(),\n",
        "            nn.MaxPool2d(kernel_size=2, stride=2),\n",
        "            nn.Dropout(0.3)\n",
        "        )\n",
        "\n",
        "        self.conv_block2 = nn.Sequential(\n",
        "            nn.Conv2d(64, 128, kernel_size=3, padding=1),\n",
        "            nn.BatchNorm2d(128),\n",
        "            nn.ReLU(),\n",
        "            nn.Conv2d(128, 128, kernel_size=3, padding=1),\n",
        "            nn.BatchNorm2d(128),\n",
        "            nn.ReLU(),\n",
        "            nn.MaxPool2d(kernel_size=2, stride=2),\n",
        "            nn.Dropout(0.3)\n",
        "        )\n",
        "\n",
        "        self.conv_block3 = nn.Sequential(\n",
        "            nn.Conv2d(128, 256, kernel_size=3, padding=1),\n",
        "            nn.BatchNorm2d(256),\n",
        "            nn.ReLU(),\n",
        "            nn.Conv2d(256, 256, kernel_size=3, padding=1),\n",
        "            nn.BatchNorm2d(256),\n",
        "            nn.ReLU(),\n",
        "            nn.MaxPool2d(kernel_size=2, stride=2),\n",
        "            nn.Dropout(0.4)\n",
        "        )\n",
        "\n",
        "        self.conv_block4 = nn.Sequential(\n",
        "            nn.Conv2d(256, 512, kernel_size=3, padding=1),\n",
        "            nn.BatchNorm2d(512),\n",
        "            nn.ReLU(),\n",
        "            nn.Conv2d(512, 512, kernel_size=3, padding=1),\n",
        "            nn.BatchNorm2d(512),\n",
        "            nn.ReLU(),\n",
        "            nn.MaxPool2d(kernel_size=2, stride=2),\n",
        "            nn.Dropout(0.4)\n",
        "        )\n",
        "\n",
        "        self.fc1 = nn.Linear(512 * 3 * 3, 1024)\n",
        "        self.fc2 = nn.Linear(1024, 512)\n",
        "        self.fc3 = nn.Linear(512, 7)\n",
        "\n",
        "    def forward(self, x):\n",
        "        x = self.conv_block1(x)\n",
        "        x = self.conv_block2(x)\n",
        "        x = self.conv_block3(x)\n",
        "        x = self.conv_block4(x)\n",
        "\n",
        "        x = x.view(-1, 512 * 3 * 3)\n",
        "        x = F.relu(self.fc1(x))\n",
        "        x = F.dropout(x, p=0.5)\n",
        "        x = F.relu(self.fc2(x))\n",
        "        x = F.dropout(x, p=0.5)\n",
        "        x = self.fc3(x)\n",
        "\n",
        "        return x"
      ]
    },
    {
      "cell_type": "code",
      "execution_count": 25,
      "metadata": {
        "colab": {
          "base_uri": "https://localhost:8080/"
        },
        "id": "WAqWhVDg5JYC",
        "outputId": "a67f502c-39b4-4777-af40-909b120aac6d"
      },
      "outputs": [
        {
          "output_type": "stream",
          "name": "stdout",
          "text": [
            "cuda\n"
          ]
        }
      ],
      "source": [
        "device = torch.device('cuda' if torch.cuda.is_available() else 'cpu')\n",
        "print(device)"
      ]
    },
    {
      "cell_type": "code",
      "execution_count": 32,
      "metadata": {
        "id": "qngDxFK6wPj5"
      },
      "outputs": [],
      "source": [
        "# hyperparameters, model, loss function, and optimizer.....\n",
        "\n",
        "epochs = 100\n",
        "learning_rate = 0.001\n",
        "\n",
        "model = EmotionCNN().to(device)\n",
        "criterion = nn.CrossEntropyLoss()\n",
        "optimizer = torch.optim.Adam(model.parameters(), lr=learning_rate)"
      ]
    },
    {
      "cell_type": "code",
      "execution_count": 33,
      "metadata": {
        "colab": {
          "base_uri": "https://localhost:8080/"
        },
        "id": "XFXK-ifzvyp2",
        "outputId": "b34d195e-70a5-4aaa-f88c-a2d062015b29"
      },
      "outputs": [
        {
          "output_type": "stream",
          "name": "stdout",
          "text": [
            "Epoch 1/100, Loss: 1.8171, Val Accuracy: 0.2504\n",
            "Epoch 2/100, Loss: 1.7011, Val Accuracy: 0.3313\n",
            "Epoch 3/100, Loss: 1.5147, Val Accuracy: 0.4023\n",
            "Epoch 4/100, Loss: 1.4272, Val Accuracy: 0.4413\n",
            "Epoch 5/100, Loss: 1.3724, Val Accuracy: 0.4557\n",
            "Epoch 6/100, Loss: 1.3391, Val Accuracy: 0.4769\n",
            "Epoch 7/100, Loss: 1.2999, Val Accuracy: 0.4850\n",
            "Epoch 8/100, Loss: 1.2639, Val Accuracy: 0.5033\n",
            "Epoch 9/100, Loss: 1.2322, Val Accuracy: 0.5235\n",
            "Epoch 10/100, Loss: 1.2007, Val Accuracy: 0.5426\n",
            "Epoch 11/100, Loss: 1.1652, Val Accuracy: 0.5358\n",
            "Epoch 12/100, Loss: 1.1272, Val Accuracy: 0.5648\n",
            "Epoch 13/100, Loss: 1.1059, Val Accuracy: 0.5592\n",
            "Epoch 14/100, Loss: 1.0701, Val Accuracy: 0.5760\n",
            "Epoch 15/100, Loss: 1.0441, Val Accuracy: 0.5941\n",
            "Epoch 16/100, Loss: 1.0100, Val Accuracy: 0.5843\n",
            "Epoch 17/100, Loss: 0.9794, Val Accuracy: 0.6006\n",
            "Epoch 18/100, Loss: 0.9507, Val Accuracy: 0.5999\n",
            "Epoch 19/100, Loss: 0.9285, Val Accuracy: 0.6124\n",
            "Epoch 20/100, Loss: 0.9047, Val Accuracy: 0.6199\n",
            "Epoch 21/100, Loss: 0.8757, Val Accuracy: 0.6279\n",
            "Epoch 22/100, Loss: 0.8525, Val Accuracy: 0.6261\n",
            "Epoch 23/100, Loss: 0.8306, Val Accuracy: 0.6272\n",
            "Epoch 24/100, Loss: 0.7991, Val Accuracy: 0.6240\n",
            "Epoch 25/100, Loss: 0.7786, Val Accuracy: 0.6414\n",
            "Epoch 26/100, Loss: 0.7553, Val Accuracy: 0.6400\n",
            "Epoch 27/100, Loss: 0.7300, Val Accuracy: 0.6445\n",
            "Epoch 28/100, Loss: 0.7132, Val Accuracy: 0.6441\n",
            "Epoch 29/100, Loss: 0.6930, Val Accuracy: 0.6439\n",
            "Epoch 30/100, Loss: 0.6694, Val Accuracy: 0.6434\n",
            "Epoch 31/100, Loss: 0.6436, Val Accuracy: 0.6487\n",
            "Epoch 32/100, Loss: 0.6234, Val Accuracy: 0.6533\n",
            "Epoch 33/100, Loss: 0.6086, Val Accuracy: 0.6520\n",
            "Epoch 34/100, Loss: 0.5848, Val Accuracy: 0.6574\n",
            "Epoch 35/100, Loss: 0.5729, Val Accuracy: 0.6455\n",
            "Epoch 36/100, Loss: 0.5448, Val Accuracy: 0.6561\n",
            "Epoch 37/100, Loss: 0.5311, Val Accuracy: 0.6584\n",
            "Epoch 38/100, Loss: 0.5103, Val Accuracy: 0.6612\n",
            "Epoch 39/100, Loss: 0.5017, Val Accuracy: 0.6640\n",
            "Epoch 40/100, Loss: 0.4851, Val Accuracy: 0.6591\n",
            "Epoch 41/100, Loss: 0.4649, Val Accuracy: 0.6547\n",
            "Epoch 42/100, Loss: 0.4650, Val Accuracy: 0.6608\n",
            "Epoch 43/100, Loss: 0.4370, Val Accuracy: 0.6609\n",
            "Epoch 44/100, Loss: 0.4252, Val Accuracy: 0.6670\n",
            "Epoch 45/100, Loss: 0.4055, Val Accuracy: 0.6574\n",
            "Epoch 46/100, Loss: 0.3949, Val Accuracy: 0.6649\n",
            "Epoch 47/100, Loss: 0.3890, Val Accuracy: 0.6629\n",
            "Epoch 48/100, Loss: 0.3724, Val Accuracy: 0.6562\n",
            "Epoch 49/100, Loss: 0.3674, Val Accuracy: 0.6657\n",
            "Epoch 50/100, Loss: 0.3502, Val Accuracy: 0.6653\n",
            "Epoch 51/100, Loss: 0.3466, Val Accuracy: 0.6630\n",
            "Epoch 52/100, Loss: 0.3337, Val Accuracy: 0.6632\n",
            "Epoch 53/100, Loss: 0.3290, Val Accuracy: 0.6609\n",
            "Epoch 54/100, Loss: 0.3202, Val Accuracy: 0.6622\n",
            "Epoch 55/100, Loss: 0.3068, Val Accuracy: 0.6650\n",
            "Epoch 56/100, Loss: 0.2953, Val Accuracy: 0.6615\n",
            "Epoch 57/100, Loss: 0.2991, Val Accuracy: 0.6683\n",
            "Epoch 58/100, Loss: 0.2788, Val Accuracy: 0.6619\n",
            "Epoch 59/100, Loss: 0.2794, Val Accuracy: 0.6708\n",
            "Epoch 60/100, Loss: 0.2758, Val Accuracy: 0.6647\n",
            "Epoch 61/100, Loss: 0.2719, Val Accuracy: 0.6695\n",
            "Epoch 62/100, Loss: 0.2710, Val Accuracy: 0.6674\n",
            "Epoch 63/100, Loss: 0.2549, Val Accuracy: 0.6647\n",
            "Epoch 64/100, Loss: 0.2530, Val Accuracy: 0.6708\n",
            "Epoch 65/100, Loss: 0.2449, Val Accuracy: 0.6650\n",
            "Epoch 66/100, Loss: 0.2478, Val Accuracy: 0.6640\n",
            "Epoch 67/100, Loss: 0.2315, Val Accuracy: 0.6654\n",
            "Epoch 68/100, Loss: 0.2331, Val Accuracy: 0.6664\n",
            "Epoch 69/100, Loss: 0.2266, Val Accuracy: 0.6616\n",
            "Epoch 70/100, Loss: 0.2212, Val Accuracy: 0.6677\n",
            "Epoch 71/100, Loss: 0.2173, Val Accuracy: 0.6748\n",
            "Epoch 72/100, Loss: 0.2185, Val Accuracy: 0.6663\n",
            "Epoch 73/100, Loss: 0.2155, Val Accuracy: 0.6714\n",
            "Epoch 74/100, Loss: 0.2091, Val Accuracy: 0.6708\n",
            "Epoch 75/100, Loss: 0.2031, Val Accuracy: 0.6736\n",
            "Epoch 76/100, Loss: 0.2012, Val Accuracy: 0.6745\n",
            "Epoch 77/100, Loss: 0.2033, Val Accuracy: 0.6687\n",
            "Epoch 78/100, Loss: 0.1967, Val Accuracy: 0.6755\n",
            "Epoch 79/100, Loss: 0.1911, Val Accuracy: 0.6705\n",
            "Epoch 80/100, Loss: 0.1921, Val Accuracy: 0.6724\n",
            "Epoch 81/100, Loss: 0.1835, Val Accuracy: 0.6684\n",
            "Epoch 82/100, Loss: 0.1893, Val Accuracy: 0.6735\n",
            "Epoch 83/100, Loss: 0.1890, Val Accuracy: 0.6708\n",
            "Epoch 84/100, Loss: 0.1845, Val Accuracy: 0.6718\n",
            "Epoch 85/100, Loss: 0.1764, Val Accuracy: 0.6687\n",
            "Epoch 86/100, Loss: 0.1712, Val Accuracy: 0.6717\n",
            "Epoch 87/100, Loss: 0.1653, Val Accuracy: 0.6693\n",
            "Epoch 88/100, Loss: 0.1785, Val Accuracy: 0.6732\n",
            "Epoch 89/100, Loss: 0.1685, Val Accuracy: 0.6687\n",
            "Epoch 90/100, Loss: 0.1653, Val Accuracy: 0.6691\n",
            "Epoch 91/100, Loss: 0.1655, Val Accuracy: 0.6759\n",
            "Epoch 92/100, Loss: 0.1624, Val Accuracy: 0.6731\n",
            "Epoch 93/100, Loss: 0.1664, Val Accuracy: 0.6721\n",
            "Epoch 94/100, Loss: 0.1578, Val Accuracy: 0.6714\n",
            "Epoch 95/100, Loss: 0.1605, Val Accuracy: 0.6708\n",
            "Epoch 96/100, Loss: 0.1586, Val Accuracy: 0.6710\n",
            "Epoch 97/100, Loss: 0.1581, Val Accuracy: 0.6650\n",
            "Epoch 98/100, Loss: 0.1553, Val Accuracy: 0.6684\n",
            "Epoch 99/100, Loss: 0.1519, Val Accuracy: 0.6670\n",
            "Epoch 100/100, Loss: 0.1495, Val Accuracy: 0.6762\n"
          ]
        }
      ],
      "source": [
        "def training_loop(model, train_loader, val_loader, criterion, optimizer, num_epochs):\n",
        "    best_accuracy = 0.0\n",
        "    for epoch in range(num_epochs):\n",
        "        model.train()\n",
        "        running_loss = 0.0\n",
        "        for images, labels in train_loader:\n",
        "            optimizer.zero_grad()\n",
        "            images, labels = images.to(device), labels.to(device)\n",
        "            outputs = model(images)\n",
        "            loss = criterion(outputs, labels)\n",
        "            loss.backward()\n",
        "            optimizer.step()\n",
        "            running_loss += loss.item() * images.size(0)\n",
        "\n",
        "        epoch_loss = running_loss / len(train_loader.dataset)\n",
        "\n",
        "        # Validation\n",
        "        model.eval()\n",
        "        val_outputs, val_labels = [], []\n",
        "        with torch.no_grad():\n",
        "            for images, labels in val_loader:\n",
        "                images, labels = images.to(device), labels.to(device)\n",
        "                outputs = model(images)\n",
        "                val_outputs.append(outputs)\n",
        "                val_labels.append(labels)\n",
        "\n",
        "        val_outputs = torch.cat(val_outputs)\n",
        "        val_labels = torch.cat(val_labels)\n",
        "        _, preds = torch.max(val_outputs, 1)\n",
        "\n",
        "        # Move tensors to the CPU before converting to numpy\n",
        "        accuracy = accuracy_score(val_labels.cpu().numpy(), preds.cpu().numpy())\n",
        "\n",
        "        print(f'Epoch {epoch+1}/{num_epochs}, Loss: {epoch_loss:.4f}, Val Accuracy: {accuracy:.4f}')\n",
        "\n",
        "        # Save the best model\n",
        "        if accuracy > best_accuracy:\n",
        "            best_accuracy = accuracy\n",
        "            torch.save(model.state_dict(), 'best_model.pth')\n",
        "\n",
        "\n",
        "training_loop(model, train_dataloader, val_dataloader, criterion, optimizer, num_epochs=epochs)"
      ]
    },
    {
      "cell_type": "code",
      "execution_count": 34,
      "metadata": {
        "colab": {
          "base_uri": "https://localhost:8080/"
        },
        "id": "yP0diyD5v0nY",
        "outputId": "c507087a-47b0-4af7-d1f9-9815d0e99a13"
      },
      "outputs": [
        {
          "output_type": "execute_result",
          "data": {
            "text/plain": [
              "<All keys matched successfully>"
            ]
          },
          "metadata": {},
          "execution_count": 34
        }
      ],
      "source": [
        "# Load the best model(saved model)\n",
        "model.load_state_dict(torch.load('best_model.pth'))"
      ]
    },
    {
      "cell_type": "code",
      "execution_count": 35,
      "metadata": {
        "colab": {
          "base_uri": "https://localhost:8080/"
        },
        "id": "ZZqrxNRWv7ps",
        "outputId": "12051822-12d6-4a6b-d8a8-a625b3a679a4"
      },
      "outputs": [
        {
          "output_type": "stream",
          "name": "stdout",
          "text": [
            "Test Accuracy: 0.6437\n"
          ]
        }
      ],
      "source": [
        "# Testing on test data\n",
        "\n",
        "model.eval()\n",
        "test_outputs = []\n",
        "test_labels = []\n",
        "with torch.no_grad():\n",
        "    for images, labels in test_dataloader:\n",
        "        images, labels = images.to(device), labels.to(device)\n",
        "        outputs = model(images)\n",
        "        test_outputs.append(outputs.cpu())\n",
        "        test_labels.append(labels.cpu())\n",
        "\n",
        "test_outputs = torch.cat(test_outputs)\n",
        "test_labels = torch.cat(test_labels)\n",
        "_, preds = torch.max(test_outputs, 1)\n",
        "test_accuracy = accuracy_score(test_labels.cpu().numpy(), preds.cpu().numpy())\n",
        "\n",
        "print(f'Test Accuracy: {test_accuracy:.4f}')"
      ]
    }
  ],
  "metadata": {
    "accelerator": "GPU",
    "colab": {
      "gpuType": "T4",
      "provenance": []
    },
    "kernelspec": {
      "display_name": "Python 3",
      "name": "python3"
    },
    "language_info": {
      "name": "python"
    }
  },
  "nbformat": 4,
  "nbformat_minor": 0
}